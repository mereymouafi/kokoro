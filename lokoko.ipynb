{
  "nbformat": 4,
  "nbformat_minor": 0,
  "metadata": {
    "colab": {
      "provenance": [],
      "authorship_tag": "ABX9TyM3RQaQHPDJdDBzGqRgSwka",
      "include_colab_link": true
    },
    "kernelspec": {
      "name": "python3",
      "display_name": "Python 3"
    },
    "language_info": {
      "name": "python"
    }
  },
  "cells": [
    {
      "cell_type": "markdown",
      "metadata": {
        "id": "view-in-github",
        "colab_type": "text"
      },
      "source": [
        "<a href=\"https://colab.research.google.com/github/mereymouafi/kokoro/blob/main/lokoko.ipynb\" target=\"_parent\"><img src=\"https://colab.research.google.com/assets/colab-badge.svg\" alt=\"Open In Colab\"/></a>"
      ]
    },
    {
      "cell_type": "markdown",
      "source": [
        "** 1. Setup Kokoro in Google Colab**\n",
        " Install dependencies:"
      ],
      "metadata": {
        "id": "yJ49wxKkjrMR"
      }
    },
    {
      "cell_type": "code",
      "execution_count": null,
      "metadata": {
        "colab": {
          "base_uri": "https://localhost:8080/"
        },
        "id": "BEE8G7K7jV_n",
        "outputId": "ccad32ab-7c9b-4fab-8b2d-61a711bf1300"
      },
      "outputs": [
        {
          "output_type": "stream",
          "name": "stdout",
          "text": [
            "\u001b[?25l     \u001b[90m━━━━━━━━━━━━━━━━━━━━━━━━━━━━━━━━━━━━━━━━\u001b[0m \u001b[32m0.0/48.3 kB\u001b[0m \u001b[31m?\u001b[0m eta \u001b[36m-:--:--\u001b[0m\r\u001b[2K     \u001b[90m━━━━━━━━━━━━━━━━━━━━━━━━━━━━━━━━━━━━━━━━\u001b[0m \u001b[32m48.3/48.3 kB\u001b[0m \u001b[31m2.6 MB/s\u001b[0m eta \u001b[36m0:00:00\u001b[0m\n",
            "\u001b[?25h  Preparing metadata (setup.py) ... \u001b[?25l\u001b[?25hdone\n",
            "\u001b[2K   \u001b[90m━━━━━━━━━━━━━━━━━━━━━━━━━━━━━━━━━━━━━━━━\u001b[0m \u001b[32m3.6/3.6 MB\u001b[0m \u001b[31m23.3 MB/s\u001b[0m eta \u001b[36m0:00:00\u001b[0m\n",
            "\u001b[2K   \u001b[90m━━━━━━━━━━━━━━━━━━━━━━━━━━━━━━━━━━━━━━━━\u001b[0m \u001b[32m61.6/61.6 kB\u001b[0m \u001b[31m4.0 MB/s\u001b[0m eta \u001b[36m0:00:00\u001b[0m\n",
            "\u001b[2K   \u001b[90m━━━━━━━━━━━━━━━━━━━━━━━━━━━━━━━━━━━━━━━━\u001b[0m \u001b[32m363.4/363.4 MB\u001b[0m \u001b[31m4.4 MB/s\u001b[0m eta \u001b[36m0:00:00\u001b[0m\n",
            "\u001b[2K   \u001b[90m━━━━━━━━━━━━━━━━━━━━━━━━━━━━━━━━━━━━━━━━\u001b[0m \u001b[32m13.8/13.8 MB\u001b[0m \u001b[31m101.4 MB/s\u001b[0m eta \u001b[36m0:00:00\u001b[0m\n",
            "\u001b[2K   \u001b[90m━━━━━━━━━━━━━━━━━━━━━━━━━━━━━━━━━━━━━━━━\u001b[0m \u001b[32m24.6/24.6 MB\u001b[0m \u001b[31m80.5 MB/s\u001b[0m eta \u001b[36m0:00:00\u001b[0m\n",
            "\u001b[2K   \u001b[90m━━━━━━━━━━━━━━━━━━━━━━━━━━━━━━━━━━━━━━━━\u001b[0m \u001b[32m883.7/883.7 kB\u001b[0m \u001b[31m51.9 MB/s\u001b[0m eta \u001b[36m0:00:00\u001b[0m\n",
            "\u001b[2K   \u001b[90m━━━━━━━━━━━━━━━━━━━━━━━━━━━━━━━━━━━━━━━━\u001b[0m \u001b[32m664.8/664.8 MB\u001b[0m \u001b[31m2.6 MB/s\u001b[0m eta \u001b[36m0:00:00\u001b[0m\n",
            "\u001b[2K   \u001b[90m━━━━━━━━━━━━━━━━━━━━━━━━━━━━━━━━━━━━━━━━\u001b[0m \u001b[32m211.5/211.5 MB\u001b[0m \u001b[31m5.8 MB/s\u001b[0m eta \u001b[36m0:00:00\u001b[0m\n",
            "\u001b[2K   \u001b[90m━━━━━━━━━━━━━━━━━━━━━━━━━━━━━━━━━━━━━━━━\u001b[0m \u001b[32m56.3/56.3 MB\u001b[0m \u001b[31m12.6 MB/s\u001b[0m eta \u001b[36m0:00:00\u001b[0m\n",
            "\u001b[2K   \u001b[90m━━━━━━━━━━━━━━━━━━━━━━━━━━━━━━━━━━━━━━━━\u001b[0m \u001b[32m127.9/127.9 MB\u001b[0m \u001b[31m7.1 MB/s\u001b[0m eta \u001b[36m0:00:00\u001b[0m\n",
            "\u001b[2K   \u001b[90m━━━━━━━━━━━━━━━━━━━━━━━━━━━━━━━━━━━━━━━━\u001b[0m \u001b[32m207.5/207.5 MB\u001b[0m \u001b[31m6.3 MB/s\u001b[0m eta \u001b[36m0:00:00\u001b[0m\n",
            "\u001b[2K   \u001b[90m━━━━━━━━━━━━━━━━━━━━━━━━━━━━━━━━━━━━━━━━\u001b[0m \u001b[32m21.1/21.1 MB\u001b[0m \u001b[31m87.2 MB/s\u001b[0m eta \u001b[36m0:00:00\u001b[0m\n",
            "\u001b[2K   \u001b[90m━━━━━━━━━━━━━━━━━━━━━━━━━━━━━━━━━━━━━━━━\u001b[0m \u001b[32m10.1/10.1 MB\u001b[0m \u001b[31m15.5 MB/s\u001b[0m eta \u001b[36m0:00:00\u001b[0m\n",
            "\u001b[2K   \u001b[90m━━━━━━━━━━━━━━━━━━━━━━━━━━━━━━━━━━━━━━━━\u001b[0m \u001b[32m163.5/163.5 kB\u001b[0m \u001b[31m12.7 MB/s\u001b[0m eta \u001b[36m0:00:00\u001b[0m\n",
            "\u001b[2K   \u001b[90m━━━━━━━━━━━━━━━━━━━━━━━━━━━━━━━━━━━━━━━━\u001b[0m \u001b[32m82.7/82.7 kB\u001b[0m \u001b[31m6.8 MB/s\u001b[0m eta \u001b[36m0:00:00\u001b[0m\n",
            "\u001b[2K   \u001b[90m━━━━━━━━━━━━━━━━━━━━━━━━━━━━━━━━━━━━━━━━\u001b[0m \u001b[32m237.9/237.9 kB\u001b[0m \u001b[31m17.3 MB/s\u001b[0m eta \u001b[36m0:00:00\u001b[0m\n",
            "\u001b[2K   \u001b[90m━━━━━━━━━━━━━━━━━━━━━━━━━━━━━━━━━━━━━━━━\u001b[0m \u001b[32m735.6/735.6 kB\u001b[0m \u001b[31m45.5 MB/s\u001b[0m eta \u001b[36m0:00:00\u001b[0m\n",
            "\u001b[2K   \u001b[90m━━━━━━━━━━━━━━━━━━━━━━━━━━━━━━━━━━━━━━━━\u001b[0m \u001b[32m59.9/59.9 kB\u001b[0m \u001b[31m4.6 MB/s\u001b[0m eta \u001b[36m0:00:00\u001b[0m\n",
            "\u001b[2K   \u001b[90m━━━━━━━━━━━━━━━━━━━━━━━━━━━━━━━━━━━━━━━━\u001b[0m \u001b[32m213.4/213.4 kB\u001b[0m \u001b[31m17.4 MB/s\u001b[0m eta \u001b[36m0:00:00\u001b[0m\n",
            "\u001b[2K   \u001b[90m━━━━━━━━━━━━━━━━━━━━━━━━━━━━━━━━━━━━━━━━\u001b[0m \u001b[32m565.1/565.1 kB\u001b[0m \u001b[31m37.1 MB/s\u001b[0m eta \u001b[36m0:00:00\u001b[0m\n",
            "\u001b[?25h  Building wheel for docopt (setup.py) ... \u001b[?25l\u001b[?25hdone\n",
            "Selecting previously unselected package libpcaudio0:amd64.\n",
            "(Reading database ... 126319 files and directories currently installed.)\n",
            "Preparing to unpack .../libpcaudio0_1.1-6build2_amd64.deb ...\n",
            "Unpacking libpcaudio0:amd64 (1.1-6build2) ...\n",
            "Selecting previously unselected package libsonic0:amd64.\n",
            "Preparing to unpack .../libsonic0_0.2.0-11build1_amd64.deb ...\n",
            "Unpacking libsonic0:amd64 (0.2.0-11build1) ...\n",
            "Selecting previously unselected package espeak-ng-data:amd64.\n",
            "Preparing to unpack .../espeak-ng-data_1.50+dfsg-10ubuntu0.1_amd64.deb ...\n",
            "Unpacking espeak-ng-data:amd64 (1.50+dfsg-10ubuntu0.1) ...\n",
            "Selecting previously unselected package libespeak-ng1:amd64.\n",
            "Preparing to unpack .../libespeak-ng1_1.50+dfsg-10ubuntu0.1_amd64.deb ...\n",
            "Unpacking libespeak-ng1:amd64 (1.50+dfsg-10ubuntu0.1) ...\n",
            "Selecting previously unselected package espeak-ng.\n",
            "Preparing to unpack .../espeak-ng_1.50+dfsg-10ubuntu0.1_amd64.deb ...\n",
            "Unpacking espeak-ng (1.50+dfsg-10ubuntu0.1) ...\n",
            "Setting up libpcaudio0:amd64 (1.1-6build2) ...\n",
            "Setting up libsonic0:amd64 (0.2.0-11build1) ...\n",
            "Setting up espeak-ng-data:amd64 (1.50+dfsg-10ubuntu0.1) ...\n",
            "Setting up libespeak-ng1:amd64 (1.50+dfsg-10ubuntu0.1) ...\n",
            "Setting up espeak-ng (1.50+dfsg-10ubuntu0.1) ...\n",
            "Processing triggers for man-db (2.10.2-1) ...\n",
            "Processing triggers for libc-bin (2.35-0ubuntu3.8) ...\n",
            "/sbin/ldconfig.real: /usr/local/lib/libtbbbind_2_5.so.3 is not a symbolic link\n",
            "\n",
            "/sbin/ldconfig.real: /usr/local/lib/libtcm_debug.so.1 is not a symbolic link\n",
            "\n",
            "/sbin/ldconfig.real: /usr/local/lib/libur_loader.so.0 is not a symbolic link\n",
            "\n",
            "/sbin/ldconfig.real: /usr/local/lib/libtcm.so.1 is not a symbolic link\n",
            "\n",
            "/sbin/ldconfig.real: /usr/local/lib/libtbbbind.so.3 is not a symbolic link\n",
            "\n",
            "/sbin/ldconfig.real: /usr/local/lib/libtbb.so.12 is not a symbolic link\n",
            "\n",
            "/sbin/ldconfig.real: /usr/local/lib/libtbbbind_2_0.so.3 is not a symbolic link\n",
            "\n",
            "/sbin/ldconfig.real: /usr/local/lib/libumf.so.0 is not a symbolic link\n",
            "\n",
            "/sbin/ldconfig.real: /usr/local/lib/libur_adapter_level_zero.so.0 is not a symbolic link\n",
            "\n",
            "/sbin/ldconfig.real: /usr/local/lib/libtbbmalloc.so.2 is not a symbolic link\n",
            "\n",
            "/sbin/ldconfig.real: /usr/local/lib/libtbbmalloc_proxy.so.2 is not a symbolic link\n",
            "\n",
            "/sbin/ldconfig.real: /usr/local/lib/libhwloc.so.15 is not a symbolic link\n",
            "\n",
            "/sbin/ldconfig.real: /usr/local/lib/libur_adapter_opencl.so.0 is not a symbolic link\n",
            "\n"
          ]
        }
      ],
      "source": [
        "!pip install -q kokoro gradio soundfile\n",
        "!apt-get -qq -y install espeak-ng\n"
      ]
    },
    {
      "cell_type": "markdown",
      "source": [
        "**2. Write the TTS Web App with Gradio**"
      ],
      "metadata": {
        "id": "BE1C9QcFj728"
      }
    },
    {
      "cell_type": "code",
      "source": [
        "import gradio as gr\n",
        "from kokoro import KPipeline\n",
        "import soundfile as sf\n",
        "import tempfile\n",
        "import numpy as np\n",
        "\n",
        "# Initialize Kokoro pipeline\n",
        "pipeline = KPipeline(lang_code='a')\n",
        "\n",
        "# ✅ Updated Synthesis function that reads full input\n",
        "def synthesize(text, voice, speed):\n",
        "    combined_audio = np.array([], dtype=np.float32)\n",
        "    generator = pipeline(text, voice=voice, speed=speed)\n",
        "\n",
        "    for _, _, audio in generator:\n",
        "        combined_audio = np.concatenate((combined_audio, audio))\n",
        "\n",
        "    tmp_file = tempfile.NamedTemporaryFile(delete=False, suffix=\".wav\")\n",
        "    sf.write(tmp_file.name, combined_audio, 24000)\n",
        "    return tmp_file.name\n",
        "\n",
        "# Voices\n",
        "voice_list = [\"af_heart\", \"am_glen\", \"af_betty\", \"am_tony\"]\n",
        "\n",
        "# Interface with improved layout\n",
        "with gr.Blocks(theme=gr.themes.Base(), css=\"\"\"\n",
        "    .gradio-container {\n",
        "        font-family: 'Segoe UI', sans-serif;\n",
        "        background-color: #f9fafb;\n",
        "    }\n",
        "    .gradio-container h1, .gradio-container h2 {\n",
        "        color: #333;\n",
        "    }\n",
        "    .gradio-container .gr-button {\n",
        "        background: #4F46E5;\n",
        "        color: white;\n",
        "        border-radius: 8px;\n",
        "        padding: 8px 16px;\n",
        "    }\n",
        "    .gradio-container .gr-button:hover {\n",
        "        background: #4338CA;\n",
        "    }\n",
        "\"\"\") as demo:\n",
        "    gr.Markdown(\"## 🎙️ **Kokoro TTS Web Interface**\")\n",
        "    gr.Markdown(\"Convert English text into speech with beautiful Kokoro voices.\")\n",
        "\n",
        "    with gr.Row():\n",
        "        with gr.Column(scale=2):\n",
        "            text_input = gr.Textbox(\n",
        "                lines=6,\n",
        "                label=\"📝 Enter your motivational or spoken text:\",\n",
        "                placeholder=\"Type something like: 'You can do it. Every day is a new opportunity.'\"\n",
        "            )\n",
        "            voice_choice = gr.Dropdown(choices=voice_list, value=\"af_heart\", label=\"🎤 Choose Voice\")\n",
        "            speed_slider = gr.Slider(0.5, 1.5, value=1.0, label=\"⏩ Speech Speed\")\n",
        "            submit_btn = gr.Button(\"🔊 Generate Speech\")\n",
        "\n",
        "        with gr.Column(scale=1):\n",
        "            audio_output = gr.Audio(type=\"filepath\", label=\"🎧 Generated Audio\")\n",
        "\n",
        "    submit_btn.click(fn=synthesize, inputs=[text_input, voice_choice, speed_slider], outputs=audio_output)\n",
        "\n",
        "demo.launch(share=True)\n"
      ],
      "metadata": {
        "colab": {
          "base_uri": "https://localhost:8080/",
          "height": 767
        },
        "id": "0Bx-PDRWkO5F",
        "outputId": "ab910e75-df24-4ad7-d55e-7ec09881aa4b"
      },
      "execution_count": 26,
      "outputs": [
        {
          "output_type": "stream",
          "name": "stdout",
          "text": [
            "WARNING: Defaulting repo_id to hexgrad/Kokoro-82M. Pass repo_id='hexgrad/Kokoro-82M' to suppress this warning.\n"
          ]
        },
        {
          "output_type": "stream",
          "name": "stderr",
          "text": [
            "/usr/local/lib/python3.11/dist-packages/torch/nn/modules/rnn.py:123: UserWarning: dropout option adds dropout after all but last recurrent layer, so non-zero dropout expects num_layers greater than 1, but got dropout=0.2 and num_layers=1\n",
            "  warnings.warn(\n",
            "/usr/local/lib/python3.11/dist-packages/torch/nn/utils/weight_norm.py:143: FutureWarning: `torch.nn.utils.weight_norm` is deprecated in favor of `torch.nn.utils.parametrizations.weight_norm`.\n",
            "  WeightNorm.apply(module, name, dim)\n",
            "/usr/local/lib/python3.11/dist-packages/torch/nn/utils/weight_norm.py:143: FutureWarning: `torch.nn.utils.weight_norm` is deprecated in favor of `torch.nn.utils.parametrizations.weight_norm`.\n",
            "  WeightNorm.apply(module, name, dim)\n",
            "/usr/local/lib/python3.11/dist-packages/torch/nn/utils/weight_norm.py:143: FutureWarning: `torch.nn.utils.weight_norm` is deprecated in favor of `torch.nn.utils.parametrizations.weight_norm`.\n",
            "  WeightNorm.apply(module, name, dim)\n"
          ]
        },
        {
          "output_type": "stream",
          "name": "stdout",
          "text": [
            "Colab notebook detected. To show errors in colab notebook, set debug=True in launch()\n",
            "* Running on public URL: https://3b2833c82162d57f9b.gradio.live\n",
            "\n",
            "This share link expires in 1 week. For free permanent hosting and GPU upgrades, run `gradio deploy` from the terminal in the working directory to deploy to Hugging Face Spaces (https://huggingface.co/spaces)\n"
          ]
        },
        {
          "output_type": "display_data",
          "data": {
            "text/plain": [
              "<IPython.core.display.HTML object>"
            ],
            "text/html": [
              "<div><iframe src=\"https://3b2833c82162d57f9b.gradio.live\" width=\"100%\" height=\"500\" allow=\"autoplay; camera; microphone; clipboard-read; clipboard-write;\" frameborder=\"0\" allowfullscreen></iframe></div>"
            ]
          },
          "metadata": {}
        },
        {
          "output_type": "execute_result",
          "data": {
            "text/plain": []
          },
          "metadata": {},
          "execution_count": 26
        }
      ]
    },
    {
      "cell_type": "markdown",
      "metadata": {
        "id": "2170f7bd"
      },
      "source": [
        "# Task\n",
        "Explain how to deploy a Gradio application that uses the `kokoro` library to Vercel, including creating the necessary configuration files (`requirements.txt`, entry point file, `vercel.json`) and providing deployment instructions."
      ]
    },
    {
      "cell_type": "markdown",
      "metadata": {
        "id": "6fbe605b"
      },
      "source": [
        "## Understand vercel deployment\n",
        "\n",
        "### Subtask:\n",
        "Explain the basic requirements for deploying Python applications on Vercel, specifically how to handle dependencies and the application entry point.\n"
      ]
    },
    {
      "cell_type": "markdown",
      "metadata": {
        "id": "1ed4c5a1"
      },
      "source": [
        "**Reasoning**:\n",
        "Explain the basic requirements for deploying Python applications on Vercel, focusing on dependencies and the entry point, as requested in the subtask.\n",
        "\n"
      ]
    },
    {
      "cell_type": "code",
      "metadata": {
        "id": "dc7ae7a2"
      },
      "source": [
        "# 1. Vercel's Serverless Function Approach\n",
        "print(\"Vercel deploys Python applications as serverless functions. When a request comes in, Vercel starts a function instance to handle it.\")\n",
        "print(\"\\n\")\n",
        "\n",
        "# 2. requirements.txt for Dependencies\n",
        "print(\"To specify the Python dependencies your application needs (like gradio and kokoro), you create a `requirements.txt` file in your project's root directory.\")\n",
        "print(\"Vercel reads this file during the build process and installs the specified packages.\")\n",
        "print(\"Example `requirements.txt`:\")\n",
        "print(\"gradio\")\n",
        "print(\"kokoro\")\n",
        "print(\"soundfile\")\n",
        "print(\"numpy\")\n",
        "print(\"\\n\")\n",
        "\n",
        "# 3. Entry Point File\n",
        "print(\"Vercel needs an entry point file to know how to run your application. This is typically a file like `api/index.py`.\")\n",
        "print(\"Inside this file, you import your Gradio application and make it executable.\")\n",
        "print(\"Vercel expects this file to contain a variable named `app` that holds your application instance (e.g., your Gradio `demo`).\")\n",
        "print(\"Example `api/index.py` structure:\")\n",
        "print(\"from your_gradio_app_file import demo\")\n",
        "print(\"app = demo.app\") # Assuming your Gradio app is named 'demo'\n",
        "\n",
        "print(\"\\n\")\n",
        "\n",
        "# 4. vercel.json for Configuration\n",
        "print(\"The `vercel.json` file, placed in the project's root, configures the deployment.\")\n",
        "print(\"It tells Vercel about your project's framework, build settings, and how to route requests to your serverless functions.\")\n",
        "print(\"For a Python application, you'll typically configure the `functions` property to point to your entry point file.\")\n",
        "print(\"Example `vercel.json` snippet for functions:\")\n",
        "print('\"functions\": {')\n",
        "print('  \"api/index.py\": {')\n",
        "print('    \"runtime\": \"python3.9\"') # Specify the Python runtime\n",
        "print('  }')\n",
        "print('}')\n"
      ],
      "execution_count": null,
      "outputs": []
    }
  ]
}