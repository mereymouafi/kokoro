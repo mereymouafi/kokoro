{
  "nbformat": 4,
  "nbformat_minor": 0,
  "metadata": {
    "colab": {
      "provenance": [],
      "authorship_tag": "ABX9TyOX9qoLZBuP9RObuDrjQW9s",
      "include_colab_link": true
    },
    "kernelspec": {
      "name": "python3",
      "display_name": "Python 3"
    },
    "language_info": {
      "name": "python"
    }
  },
  "cells": [
    {
      "cell_type": "markdown",
      "metadata": {
        "id": "view-in-github",
        "colab_type": "text"
      },
      "source": [
        "<a href=\"https://colab.research.google.com/github/mereymouafi/kokoro/blob/main/Untitled3.ipynb\" target=\"_parent\"><img src=\"https://colab.research.google.com/assets/colab-badge.svg\" alt=\"Open In Colab\"/></a>"
      ]
    },
    {
      "cell_type": "code",
      "execution_count": 1,
      "metadata": {
        "id": "E-Jc2CPK2zoX"
      },
      "outputs": [],
      "source": [
        "!mkdir -p kokoro-tts-space\n"
      ]
    },
    {
      "cell_type": "code",
      "source": [
        "app_code = '''\n",
        "import gradio as gr\n",
        "from kokoro import KPipeline\n",
        "import soundfile as sf\n",
        "import tempfile\n",
        "import numpy as np\n",
        "\n",
        "pipeline = KPipeline(lang_code='a')\n",
        "\n",
        "def synthesize(text, speed):\n",
        "    combined_audio = np.array([], dtype=np.float32)\n",
        "    generator = pipeline(text, voice=\"af_heart\", speed=speed)\n",
        "    for _, _, audio in generator:\n",
        "        combined_audio = np.concatenate((combined_audio, audio))\n",
        "\n",
        "    tmp_file = tempfile.NamedTemporaryFile(delete=False, suffix=\".wav\")\n",
        "    sf.write(tmp_file.name, combined_audio, 24000)\n",
        "    return tmp_file.name\n",
        "\n",
        "demo = gr.Interface(\n",
        "    fn=synthesize,\n",
        "    inputs=[\n",
        "        gr.Textbox(lines=8, label=\"Enter your text\"),\n",
        "        gr.Slider(0.5, 1.5, value=1.0, label=\"Speech Speed\"),\n",
        "    ],\n",
        "    outputs=gr.Audio(type=\"filepath\", label=\"Generated Audio\"),\n",
        "    title=\"🎙️ Kokoro TTS Web App\",\n",
        "    description=\"Generate speech from text using Kokoro TTS engine.\"\n",
        ")\n",
        "\n",
        "demo.launch()\n",
        "'''\n",
        "with open(\"kokoro-tts-space/app.py\", \"w\") as f:\n",
        "    f.write(app_code)\n"
      ],
      "metadata": {
        "id": "9YVkOx3C22pb"
      },
      "execution_count": 2,
      "outputs": []
    },
    {
      "cell_type": "code",
      "source": [
        "requirements = '''\n",
        "gradio\n",
        "kokoro>=0.9.4\n",
        "soundfile\n",
        "numpy\n",
        "'''\n",
        "with open(\"kokoro-tts-space/requirements.txt\", \"w\") as f:\n",
        "    f.write(requirements)\n"
      ],
      "metadata": {
        "id": "7JrVAxsx2_K2"
      },
      "execution_count": 3,
      "outputs": []
    },
    {
      "cell_type": "code",
      "source": [
        "readme = '''\n",
        "# Kokoro TTS Web App\n",
        "\n",
        "This Gradio interface allows users to convert English text to speech using the Kokoro TTS engine.\n",
        "'''\n",
        "with open(\"kokoro-tts-space/README.md\", \"w\") as f:\n",
        "    f.write(readme)\n"
      ],
      "metadata": {
        "id": "Y5HrEl5_3DI8"
      },
      "execution_count": 4,
      "outputs": []
    },
    {
      "cell_type": "code",
      "source": [
        "!ls kokoro-tts-space\n"
      ],
      "metadata": {
        "colab": {
          "base_uri": "https://localhost:8080/"
        },
        "id": "WNGeGzkq3Hwh",
        "outputId": "1d891cfe-8db5-44f2-f49d-474fb6d0a73f"
      },
      "execution_count": 5,
      "outputs": [
        {
          "output_type": "stream",
          "name": "stdout",
          "text": [
            "app.py\tREADME.md  requirements.txt\n"
          ]
        }
      ]
    },
    {
      "cell_type": "code",
      "source": [
        "!zip -r kokoro-tts-space.zip kokoro-tts-space\n",
        "from google.colab import files\n",
        "files.download(\"kokoro-tts-space.zip\")\n"
      ],
      "metadata": {
        "colab": {
          "base_uri": "https://localhost:8080/",
          "height": 86
        },
        "id": "YWJSvv783Mxq",
        "outputId": "d55e4551-bd8b-4027-ca8c-6342e9ae7c0e"
      },
      "execution_count": 6,
      "outputs": [
        {
          "output_type": "stream",
          "name": "stdout",
          "text": [
            "  adding: kokoro-tts-space/ (stored 0%)\n",
            "  adding: kokoro-tts-space/app.py (deflated 45%)\n",
            "  adding: kokoro-tts-space/README.md (deflated 17%)\n",
            "  adding: kokoro-tts-space/requirements.txt (stored 0%)\n"
          ]
        },
        {
          "output_type": "display_data",
          "data": {
            "text/plain": [
              "<IPython.core.display.Javascript object>"
            ],
            "application/javascript": [
              "\n",
              "    async function download(id, filename, size) {\n",
              "      if (!google.colab.kernel.accessAllowed) {\n",
              "        return;\n",
              "      }\n",
              "      const div = document.createElement('div');\n",
              "      const label = document.createElement('label');\n",
              "      label.textContent = `Downloading \"${filename}\": `;\n",
              "      div.appendChild(label);\n",
              "      const progress = document.createElement('progress');\n",
              "      progress.max = size;\n",
              "      div.appendChild(progress);\n",
              "      document.body.appendChild(div);\n",
              "\n",
              "      const buffers = [];\n",
              "      let downloaded = 0;\n",
              "\n",
              "      const channel = await google.colab.kernel.comms.open(id);\n",
              "      // Send a message to notify the kernel that we're ready.\n",
              "      channel.send({})\n",
              "\n",
              "      for await (const message of channel.messages) {\n",
              "        // Send a message to notify the kernel that we're ready.\n",
              "        channel.send({})\n",
              "        if (message.buffers) {\n",
              "          for (const buffer of message.buffers) {\n",
              "            buffers.push(buffer);\n",
              "            downloaded += buffer.byteLength;\n",
              "            progress.value = downloaded;\n",
              "          }\n",
              "        }\n",
              "      }\n",
              "      const blob = new Blob(buffers, {type: 'application/binary'});\n",
              "      const a = document.createElement('a');\n",
              "      a.href = window.URL.createObjectURL(blob);\n",
              "      a.download = filename;\n",
              "      div.appendChild(a);\n",
              "      a.click();\n",
              "      div.remove();\n",
              "    }\n",
              "  "
            ]
          },
          "metadata": {}
        },
        {
          "output_type": "display_data",
          "data": {
            "text/plain": [
              "<IPython.core.display.Javascript object>"
            ],
            "application/javascript": [
              "download(\"download_4c39f242-b279-4c4d-8014-c0b1b276365d\", \"kokoro-tts-space.zip\", 1371)"
            ]
          },
          "metadata": {}
        }
      ]
    }
  ]
}